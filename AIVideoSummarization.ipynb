{
  "nbformat": 4,
  "nbformat_minor": 0,
  "metadata": {
    "colab": {
      "provenance": [],
      "authorship_tag": "ABX9TyOSgTnYkDg2q/wZbNk1I8gw",
      "include_colab_link": true
    },
    "kernelspec": {
      "name": "python3",
      "display_name": "Python 3"
    },
    "language_info": {
      "name": "python"
    }
  },
  "cells": [
    {
      "cell_type": "markdown",
      "metadata": {
        "id": "view-in-github",
        "colab_type": "text"
      },
      "source": [
        "<a href=\"https://colab.research.google.com/github/MangalaPriyadharshini/MangalaPriyadharshini/blob/main/AIVideoSummarization.ipynb\" target=\"_parent\"><img src=\"https://colab.research.google.com/assets/colab-badge.svg\" alt=\"Open In Colab\"/></a>"
      ]
    },
    {
      "cell_type": "code",
      "source": [
        "import cv2\n",
        "import os\n",
        "\n",
        "video_file = \"/content/AIVideo.mp4\"\n",
        "output_folder = \"/content/frames\"\n",
        "os.makedirs(output_folder, exist_ok=True)\n",
        "\n",
        "cap = cv2.VideoCapture(video_file)\n",
        "frame_count = 0\n",
        "\n",
        "while True:\n",
        "    ret, frame = cap.read()\n",
        "    if not ret:\n",
        "        break\n",
        "    # Save one frame every N frames to reduce workload\n",
        "    if frame_count % 10 == 0:  # every 10th frame\n",
        "        cv2.imwrite(f\"{output_folder}/frame_{frame_count:04d}.jpg\", frame)\n",
        "    frame_count += 1\n",
        "\n",
        "cap.release()\n",
        "print(f\"✅ Frames saved in {output_folder}\")\n"
      ],
      "metadata": {
        "colab": {
          "base_uri": "https://localhost:8080/"
        },
        "id": "FIC3OZS17HMw",
        "outputId": "d4d580e1-e39c-4410-80dc-a6917eb9d4dc"
      },
      "execution_count": 39,
      "outputs": [
        {
          "output_type": "stream",
          "name": "stdout",
          "text": [
            "✅ Frames saved in /content/frames\n"
          ]
        }
      ]
    },
    {
      "cell_type": "code",
      "source": [
        "from transformers import BlipProcessor, BlipForConditionalGeneration\n",
        "from PIL import Image\n",
        "import glob\n",
        "\n",
        "# Load image captioning model\n",
        "processor = BlipProcessor.from_pretrained(\"Salesforce/blip-image-captioning-base\")\n",
        "model = BlipForConditionalGeneration.from_pretrained(\"Salesforce/blip-image-captioning-base\")\n",
        "\n",
        "frame_files = sorted(glob.glob(\"/content/frames/*.jpg\"))\n",
        "captions = []  # store all captions\n",
        "\n",
        "for f in frame_files:\n",
        "    img = Image.open(f).convert(\"RGB\")\n",
        "    inputs = processor(images=img, return_tensors=\"pt\")\n",
        "    out = model.generate(**inputs)\n",
        "    caption = processor.decode(out[0], skip_special_tokens=True)\n",
        "    captions.append(caption)  # add caption to list\n",
        "    print(f\"{f}: {caption}\")\n",
        "\n"
      ],
      "metadata": {
        "colab": {
          "base_uri": "https://localhost:8080/"
        },
        "id": "cvkMSGf87KVQ",
        "outputId": "a723efdd-f78c-460b-bb12-ed7b910a2cc9"
      },
      "execution_count": 42,
      "outputs": [
        {
          "output_type": "stream",
          "name": "stdout",
          "text": [
            "/content/frames/frame_0000.jpg: a view of the pagoda tower in the city of kyoto\n",
            "/content/frames/frame_0005.jpg: a view of the sun setting over the roofs of a temple\n",
            "/content/frames/frame_0010.jpg: a view of the sun setting over the roofs of a building\n",
            "/content/frames/frame_0015.jpg: a view of the sun setting over the roofs of a building\n",
            "/content/frames/frame_0020.jpg: a view of the sun setting over a pagoda\n",
            "/content/frames/frame_0025.jpg: a view of the sun setting over the roofs of a small town\n",
            "/content/frames/frame_0030.jpg: a view of the sun setting over a pagoda\n",
            "/content/frames/frame_0035.jpg: a view of the sun setting over the roofs of a building\n",
            "/content/frames/frame_0040.jpg: a view of the sun setting over the roofs of a building\n",
            "/content/frames/frame_0045.jpg: a view of the sun setting over the roofs of a building\n",
            "/content/frames/frame_0050.jpg: a view of the sun setting over the roofs of a building\n",
            "/content/frames/frame_0055.jpg: a view of the sun setting over the roofs of a building\n",
            "/content/frames/frame_0060.jpg: a view of the sun setting over the roofs of a building\n",
            "/content/frames/frame_0065.jpg: a view of the sun setting over a pagoda\n",
            "/content/frames/frame_0070.jpg: a view of the sun setting over the roofs of a building\n",
            "/content/frames/frame_0075.jpg: a view of the sun setting over a pagoda\n",
            "/content/frames/frame_0080.jpg: a view of the sun setting over a pagoda tower\n",
            "/content/frames/frame_0085.jpg: a pagoda tower in the middle of a city\n",
            "/content/frames/frame_0090.jpg: a pagoda tower in the middle of a city\n",
            "/content/frames/frame_0095.jpg: a pagoda tower in the middle of a city\n",
            "/content/frames/frame_0100.jpg: a pagoda tower in the middle of a city\n",
            "/content/frames/frame_0105.jpg: a pagoda tower in the middle of a city\n",
            "/content/frames/frame_0110.jpg: a pagoda tower in the middle of a city\n",
            "/content/frames/frame_0115.jpg: the sun is setting over the rooftops of a pagoda\n",
            "/content/frames/frame_0120.jpg: the sun sets behind the pagoda tower in kyoto\n",
            "/content/frames/frame_0125.jpg: the sun sets behind the pagoda tower in the city of kyoto\n",
            "/content/frames/frame_0130.jpg: the sun sets behind the pagoda tower in the city of kyoto\n",
            "/content/frames/frame_0135.jpg: the sun is shining through the clouds over a pagoda\n",
            "/content/frames/frame_0140.jpg: the sun is setting over the roofs of a building\n",
            "/content/frames/frame_0145.jpg: the sun sets behind the pagoda tower in the city of kyoto\n",
            "/content/frames/frame_0150.jpg: the sun sets behind the pagoda tower in the city of kyoto\n",
            "/content/frames/frame_0155.jpg: a view of the sun setting over the roofs of a building\n",
            "/content/frames/frame_0160.jpg: the sun sets behind the pagoda tower in the city of kyoto\n",
            "/content/frames/frame_0165.jpg: the sun sets behind the pagoda tower in the city of kyoto\n",
            "/content/frames/frame_0170.jpg: the sun is setting over the roofs of a building\n",
            "/content/frames/frame_0175.jpg: the sun is setting over the roofs of a building\n",
            "/content/frames/frame_0180.jpg: the sun is shining through the clouds over a pagoda\n",
            "/content/frames/frame_0185.jpg: the sun is shining through the clouds over a pagoda\n",
            "/content/frames/frame_0190.jpg: the sun is shining through the clouds over a pagoda\n",
            "/content/frames/frame_0195.jpg: the sun is shining through the clouds over a pagoda\n",
            "/content/frames/frame_0200.jpg: the sun is shining through the clouds over a pagoda\n",
            "/content/frames/frame_0205.jpg: the sun is shining through the clouds over a pagoda\n",
            "/content/frames/frame_0210.jpg: the sun is setting over the roofs of a building\n",
            "/content/frames/frame_0215.jpg: the sun is setting over the roofs of a building\n",
            "/content/frames/frame_0220.jpg: the sun is shining through the clouds over a city\n",
            "/content/frames/frame_0225.jpg: the sun is shining through the clouds over the roofs of buildings\n",
            "/content/frames/frame_0230.jpg: the sun is setting over the roofs of a building\n",
            "/content/frames/frame_0235.jpg: the sun is shining through the clouds over a pagoda\n",
            "/content/frames/frame_0240.jpg: the sun is shining through the clouds over the roofs of buildings\n",
            "/content/frames/frame_0245.jpg: the sun is shining through the clouds over a pagoda\n",
            "/content/frames/frame_0250.jpg: the sun is shining through the clouds over the roofs of buildings\n",
            "/content/frames/frame_0255.jpg: the sun is setting over the roofs of a building\n",
            "/content/frames/frame_0260.jpg: a view of the sun setting over the roofs of a building\n",
            "/content/frames/frame_0265.jpg: a view of the sun setting over the roofs of a building\n",
            "/content/frames/frame_0270.jpg: the sun is shining through the clouds over the roofs of buildings\n",
            "/content/frames/frame_0275.jpg: a view of the sun setting over the roofs of a building\n",
            "/content/frames/frame_0280.jpg: the sun is setting over the roofs of a building\n",
            "/content/frames/frame_0285.jpg: the sun sets behind the pagoda tower in the city of kyoto\n",
            "/content/frames/frame_0290.jpg: the sun sets behind the pagoda tower in kyoto\n",
            "/content/frames/frame_0295.jpg: the sun sets behind the pagoda tower in the city of kyoto\n",
            "/content/frames/frame_0300.jpg: the sun is setting over the roofs of a building\n",
            "/content/frames/frame_0305.jpg: a view of the sun setting over the roofs of a building\n",
            "/content/frames/frame_0310.jpg: the sun sets behind the pagoda tower in kyoto\n",
            "/content/frames/frame_0315.jpg: the sun sets behind the pagoda tower in kyoto, japan\n",
            "/content/frames/frame_0320.jpg: a sunset view of the pagoda tower in kyoto\n",
            "/content/frames/frame_0325.jpg: a sunset view of the pagoda tower in kyoto\n",
            "/content/frames/frame_0330.jpg: a sunset view of the pagoda tower in the city of kyoto\n",
            "/content/frames/frame_0335.jpg: the sun sets behind the pagoda tower in the city of kyoto\n",
            "/content/frames/frame_0340.jpg: a sunset view of the pagoda tower in kyoto\n",
            "/content/frames/frame_0345.jpg: a sunset view of the pagoda tower in kyoto\n",
            "/content/frames/frame_0350.jpg: a sunset view of the pagoda tower in the city of kyoto\n",
            "/content/frames/frame_0355.jpg: a sunset view of the pagoda tower in the city of kyoto\n",
            "/content/frames/frame_0360.jpg: the sun sets behind the pagoda tower in the city of kyoto\n",
            "/content/frames/frame_0365.jpg: the sun sets behind the pagoda tower in the city of kyoto\n",
            "/content/frames/frame_0370.jpg: the sun sets behind the pagoda tower in the city of kyoto\n",
            "/content/frames/frame_0375.jpg: a sunset view of the pagoda tower in the city of kyoto\n",
            "/content/frames/frame_0380.jpg: the sun sets behind the pagoda tower in the city of kyoto\n",
            "/content/frames/frame_0385.jpg: the sun sets behind the pagoda tower in the city of kyoto\n",
            "/content/frames/frame_0390.jpg: the sun sets behind the pagoda tower in the city of kyoto\n",
            "/content/frames/frame_0395.jpg: a sunset view of the pagoda tower in the city of suyo\n",
            "/content/frames/frame_0400.jpg: a sunset view of the pagoda tower in the city of suyo\n",
            "/content/frames/frame_0405.jpg: the sun sets behind the pagoda tower in the city of kyoto\n",
            "/content/frames/frame_0410.jpg: a sunset view of the pagoda tower in the city of kyoto\n",
            "/content/frames/frame_0415.jpg: a sunset view of the pagoda tower in kyoto\n",
            "/content/frames/frame_0420.jpg: a sunset view of the pagoda tower in kyoto\n",
            "/content/frames/frame_0425.jpg: a sunset view of the pagoda tower in kyoto\n",
            "/content/frames/frame_0430.jpg: a sunset view of the pagoda tower in kyoto\n",
            "/content/frames/frame_0435.jpg: a sunset view of the pagoda tower in kyoto\n",
            "/content/frames/frame_0440.jpg: a sunset view of the pagoda tower in kyoto\n",
            "/content/frames/frame_0445.jpg: the sun sets behind the pagoda tower in kyoto\n",
            "/content/frames/frame_0450.jpg: the sun sets behind the pagoda tower in the city of kyoto\n",
            "/content/frames/frame_0455.jpg: the sun sets behind the pagoda tower in the city of kyoto\n",
            "/content/frames/frame_0460.jpg: the sun sets behind the pagoda tower in the city of kyoto\n",
            "/content/frames/frame_0465.jpg: a sunset view of the pagoda tower in the city of kyoto\n",
            "/content/frames/frame_0470.jpg: a sunset view of the pagoda tower in the city of kyoto\n",
            "/content/frames/frame_0475.jpg: a sunset view of the pagoda tower in the city of kyoto\n",
            "/content/frames/frame_0480.jpg: a sunset view of the pagoda tower in the city of kyoto\n",
            "/content/frames/frame_0485.jpg: a sunset view of the pagoda tower in the city of kyoto\n",
            "/content/frames/frame_0490.jpg: a sunset view of the pagoda tower in the city of kyoto\n",
            "/content/frames/frame_0495.jpg: a sunset view of the pagoda tower in the city of kyoto\n",
            "/content/frames/frame_0500.jpg: the sun sets behind the pagoda tower in the city of kyoto\n",
            "/content/frames/frame_0505.jpg: the sun sets over the rooftops of a temple in the city of kathmandu\n",
            "/content/frames/frame_0510.jpg: the sun sets behind the pagoda tower in the city of kyoto\n",
            "/content/frames/frame_0515.jpg: the sun sets behind the pagoda tower in the city of kyoto\n",
            "/content/frames/frame_0520.jpg: the sun sets behind the pagoda tower in the city of kyoto\n",
            "/content/frames/frame_0525.jpg: the sun sets behind the pagoda tower in the city of kyoto\n",
            "/content/frames/frame_0530.jpg: a sunset view of the city of kathmandu\n",
            "/content/frames/frame_0535.jpg: a sunset view of the pagoda tower in the city of kyoto\n",
            "/content/frames/frame_0540.jpg: a sunset view of the pagoda tower in the city of kyoto\n",
            "/content/frames/frame_0545.jpg: a sunset view of the pagoda tower in the city of kyoto\n",
            "/content/frames/frame_0550.jpg: a sunset view of the pagoda tower in the city of kyoto\n",
            "/content/frames/frame_0555.jpg: a sunset view of the pagoda tower in the city of kyoto\n",
            "/content/frames/frame_0560.jpg: a sunset view of the pagoda tower in the city of kyoto\n",
            "/content/frames/frame_0565.jpg: a sunset view of the pagoda tower in the city of kyoto\n",
            "/content/frames/frame_0570.jpg: a sunset view of the pagoda tower in the city of kyoto\n",
            "/content/frames/frame_0575.jpg: a sunset view of the pagoda tower in the city of kyoto\n",
            "/content/frames/frame_0580.jpg: a sunset view of the pagoda tower in the city of kyoto\n",
            "/content/frames/frame_0585.jpg: a sunset view of the pagoda tower in the city of kyoto\n",
            "/content/frames/frame_0590.jpg: a sunset view of the pagoda tower in the city of kyoto\n",
            "/content/frames/frame_0595.jpg: a sunset view of the pagoda tower in the city of kyoto\n",
            "/content/frames/frame_0600.jpg: a sunset view of the city of kyoto\n",
            "/content/frames/frame_0605.jpg: a sunset view of the pagoda tower in the city of kyoto\n",
            "/content/frames/frame_0610.jpg: a sunset view of the pagoda tower in the city of kyoto\n",
            "/content/frames/frame_0615.jpg: a sunset view of the pagoda tower in the city of kyoto\n",
            "/content/frames/frame_0620.jpg: a sunset view of the pagoda tower in the city of kyoto\n",
            "/content/frames/frame_0625.jpg: a sunset view of the pagoda tower in the city of kyoto\n"
          ]
        }
      ]
    },
    {
      "cell_type": "code",
      "source": [
        "from transformers import pipeline\n",
        "import math\n",
        "\n",
        "# 1️⃣ Summarizer\n",
        "summarizer = pipeline(\"summarization\", model=\"sshleifer/distilbart-cnn-12-6\")\n",
        "\n",
        "# 2️⃣ Combine captions into a single string\n",
        "captions_text = \" \".join(captions)\n",
        "\n",
        "# 3️⃣ Split text into smaller chunks (e.g., ~500 words)\n",
        "words = captions_text.split()\n",
        "chunk_size = 500\n",
        "chunks = [\" \".join(words[i:i+chunk_size]) for i in range(0, len(words), chunk_size)]\n",
        "\n",
        "# 4️⃣ Summarize each chunk\n",
        "chunk_summaries = []\n",
        "for c in chunks:\n",
        "    summary = summarizer(c, max_length=150, min_length=50, do_sample=False)\n",
        "    chunk_summaries.append(summary[0]['summary_text'])\n",
        "\n",
        "# 5️⃣ Combine chunk summaries and summarize again if needed\n",
        "final_text = \" \".join(chunk_summaries)\n",
        "final_summary = summarizer(final_text, max_length=150, min_length=50, do_sample=False)\n",
        "\n",
        "print(\"✅ Final Video Summary:\")\n",
        "print(final_summary[0]['summary_text'])\n",
        "\n",
        "\n"
      ],
      "metadata": {
        "colab": {
          "base_uri": "https://localhost:8080/"
        },
        "id": "48dsCe219Rrf",
        "outputId": "4fc5da2f-b626-4501-b4a8-5d98709ae83b"
      },
      "execution_count": 44,
      "outputs": [
        {
          "output_type": "stream",
          "name": "stderr",
          "text": [
            "Device set to use cpu\n"
          ]
        },
        {
          "output_type": "stream",
          "name": "stdout",
          "text": [
            "✅ Final Video Summary:\n",
            " A view of the sun setting over a pagoda tower in the middle of the city of kyoto the sun is setting over the roofs of a small town . The sun shines through the clouds over the . roofs of buildings in the Japanese city of suyo .\n"
          ]
        }
      ]
    }
  ]
}