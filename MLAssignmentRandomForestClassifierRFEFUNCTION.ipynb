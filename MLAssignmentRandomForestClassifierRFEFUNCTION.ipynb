{
  "nbformat": 4,
  "nbformat_minor": 0,
  "metadata": {
    "colab": {
      "provenance": [],
      "authorship_tag": "ABX9TyMLOLpyEhZE5vLRaDdLLXrG",
      "include_colab_link": true
    },
    "kernelspec": {
      "name": "python3",
      "display_name": "Python 3"
    },
    "language_info": {
      "name": "python"
    }
  },
  "cells": [
    {
      "cell_type": "markdown",
      "metadata": {
        "id": "view-in-github",
        "colab_type": "text"
      },
      "source": [
        "<a href=\"https://colab.research.google.com/github/MangalaPriyadharshini/MangalaPriyadharshini/blob/main/MLAssignmentRandomForestClassifierRFEFUNCTION.ipynb\" target=\"_parent\"><img src=\"https://colab.research.google.com/assets/colab-badge.svg\" alt=\"Open In Colab\"/></a>"
      ]
    },
    {
      "cell_type": "code",
      "execution_count": 3,
      "metadata": {
        "colab": {
          "base_uri": "https://localhost:8080/"
        },
        "id": "xmTMFHJfIgM3",
        "outputId": "89d80084-eeb2-4ba5-9e11-245a93f08655"
      },
      "outputs": [
        {
          "output_type": "stream",
          "name": "stdout",
          "text": [
            "\n",
            "✅ Selected Features by RFE: ['Glucose', 'BloodPressure', 'BMI', 'DiabetesPedigreeFunction', 'Age']\n",
            "\n",
            "📊 Random Forest Performance Metrics:\n",
            "Accuracy: 0.7857142857142857\n",
            "Precision: 0.782312925170068\n",
            "Recall: 0.7857142857142857\n",
            "F1 Score: 0.7831264165623626\n",
            "\n",
            "Classification Report:\n",
            "               precision    recall  f1-score   support\n",
            "\n",
            "           0     0.8190    0.8600    0.8390       100\n",
            "           1     0.7143    0.6481    0.6796        54\n",
            "\n",
            "    accuracy                         0.7857       154\n",
            "   macro avg     0.7667    0.7541    0.7593       154\n",
            "weighted avg     0.7823    0.7857    0.7831       154\n",
            "\n"
          ]
        }
      ],
      "source": [
        "import pandas as pd\n",
        "from sklearn.model_selection import train_test_split\n",
        "from sklearn.preprocessing import StandardScaler\n",
        "from sklearn.feature_selection import RFE\n",
        "from sklearn.ensemble import RandomForestClassifier\n",
        "from sklearn.metrics import accuracy_score, precision_score, recall_score, f1_score, classification_report\n",
        "\n",
        "dataset = pd.read_csv(\"diabetes.csv\")\n",
        "X = dataset.drop(columns=[\"Outcome\"])\n",
        "y = dataset[\"Outcome\"]\n",
        "\n",
        "\n",
        "scaler = StandardScaler()\n",
        "X_scaled = scaler.fit_transform(X)\n",
        "\n",
        "\n",
        "rf_clf = RandomForestClassifier(n_estimators=100, random_state=42)\n",
        "rfe = RFE(rf_clf, n_features_to_select=5)\n",
        "rfe.fit(X_scaled, y)\n",
        "\n",
        "\n",
        "selected_features = X.columns[rfe.support_]\n",
        "print(\"\\n✅ Selected Features by RFE:\", list(selected_features))\n",
        "\n",
        "\n",
        "X_selected = X_scaled[:, rfe.support_]\n",
        "\n",
        "\n",
        "X_train, X_test, y_train, y_test = train_test_split(\n",
        "    X_selected, y, test_size=0.2, random_state=42, stratify=y\n",
        ")\n",
        "\n",
        "\n",
        "rf_clf.fit(X_train, y_train)\n",
        "y_pred = rf_clf.predict(X_test)\n",
        "\n",
        "\n",
        "print(\"\\n📊 Random Forest Performance Metrics:\")\n",
        "print(\"Accuracy:\", accuracy_score(y_test, y_pred))\n",
        "print(\"Precision:\", precision_score(y_test, y_pred, average=\"weighted\"))\n",
        "print(\"Recall:\", recall_score(y_test, y_pred, average=\"weighted\"))\n",
        "print(\"F1 Score:\", f1_score(y_test, y_pred, average=\"weighted\"))\n",
        "\n",
        "print(\"\\nClassification Report:\\n\", classification_report(y_test, y_pred, digits=4))\n"
      ]
    },
    {
      "cell_type": "code",
      "source": [
        "import pickle\n",
        "filename = \"RandomForestClassifier.sav\"\n",
        "pickle.dump(rf_clf,open(filename,\"wb\"))\n",
        "load_model=pickle.load(open(filename,\"rb\"))\n",
        ""
      ],
      "metadata": {
        "id": "0u-3evHdIsdz"
      },
      "execution_count": 4,
      "outputs": []
    },
    {
      "cell_type": "code",
      "source": [
        "result=load_model.predict([[3,4.5,27,4.9,33\t]])\n",
        ""
      ],
      "metadata": {
        "id": "M-NuW4uBI7gY"
      },
      "execution_count": 5,
      "outputs": []
    },
    {
      "cell_type": "code",
      "source": [
        "result"
      ],
      "metadata": {
        "colab": {
          "base_uri": "https://localhost:8080/"
        },
        "id": "-_gnjr30JH76",
        "outputId": "c9ca19cf-e4e2-4513-947c-4dec75d68441"
      },
      "execution_count": 6,
      "outputs": [
        {
          "output_type": "execute_result",
          "data": {
            "text/plain": [
              "array([0])"
            ]
          },
          "metadata": {},
          "execution_count": 6
        }
      ]
    }
  ]
}