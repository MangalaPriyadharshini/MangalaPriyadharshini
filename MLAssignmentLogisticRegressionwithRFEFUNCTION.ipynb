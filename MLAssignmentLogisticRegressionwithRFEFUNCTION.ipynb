{
  "nbformat": 4,
  "nbformat_minor": 0,
  "metadata": {
    "colab": {
      "provenance": [],
      "authorship_tag": "ABX9TyM9RhPxUAoaT8CL1JsLW4IJ",
      "include_colab_link": true
    },
    "kernelspec": {
      "name": "python3",
      "display_name": "Python 3"
    },
    "language_info": {
      "name": "python"
    }
  },
  "cells": [
    {
      "cell_type": "markdown",
      "metadata": {
        "id": "view-in-github",
        "colab_type": "text"
      },
      "source": [
        "<a href=\"https://colab.research.google.com/github/MangalaPriyadharshini/MangalaPriyadharshini/blob/main/MLAssignmentLogisticRegressionwithRFEFUNCTION.ipynb\" target=\"_parent\"><img src=\"https://colab.research.google.com/assets/colab-badge.svg\" alt=\"Open In Colab\"/></a>"
      ]
    },
    {
      "cell_type": "code",
      "execution_count": 1,
      "metadata": {
        "colab": {
          "base_uri": "https://localhost:8080/"
        },
        "id": "kRJFwADDHLZq",
        "outputId": "bc204185-1fe2-486c-ebc8-8653d361ede8"
      },
      "outputs": [
        {
          "output_type": "stream",
          "name": "stdout",
          "text": [
            "\n",
            "✅ Selected Features by RFE: ['Pregnancies', 'Glucose', 'BloodPressure', 'BMI', 'DiabetesPedigreeFunction']\n",
            "\n",
            "📊 Logistic Regression Performance Metrics:\n",
            "Accuracy: 0.7142857142857143\n",
            "Precision: 0.7064642282033586\n",
            "Recall: 0.7142857142857143\n",
            "F1 Score: 0.7083516483516483\n",
            "\n",
            "Classification Report:\n",
            "               precision    recall  f1-score   support\n",
            "\n",
            "           0     0.7593    0.8200    0.7885       100\n",
            "           1     0.6087    0.5185    0.5600        54\n",
            "\n",
            "    accuracy                         0.7143       154\n",
            "   macro avg     0.6840    0.6693    0.6742       154\n",
            "weighted avg     0.7065    0.7143    0.7084       154\n",
            "\n"
          ]
        }
      ],
      "source": [
        "import pandas as pd\n",
        "from sklearn.model_selection import train_test_split\n",
        "from sklearn.preprocessing import StandardScaler\n",
        "from sklearn.feature_selection import RFE\n",
        "from sklearn.linear_model import LogisticRegression\n",
        "from sklearn.metrics import accuracy_score, precision_score, recall_score, f1_score, classification_report\n",
        "\n",
        "dataset = pd.read_csv(\"diabetes.csv\")\n",
        "X = dataset.drop(columns=[\"Outcome\"])\n",
        "y = dataset[\"Outcome\"]\n",
        "\n",
        "\n",
        "scaler = StandardScaler()\n",
        "X_scaled = scaler.fit_transform(X)\n",
        "\n",
        "#Apply RFE with Logistic Regression\n",
        "log_reg = LogisticRegression(max_iter=1000, solver=\"liblinear\")\n",
        "rfe = RFE(log_reg, n_features_to_select=5)  # select top 5 features\n",
        "rfe.fit(X_scaled, y)\n",
        "\n",
        "# Get selected features\n",
        "selected_features = X.columns[rfe.support_]\n",
        "print(\"\\n✅ Selected Features by RFE:\", list(selected_features))\n",
        "\n",
        "# Use only selected features\n",
        "X_selected = X_scaled[:, rfe.support_]\n",
        "\n",
        "# Step 4: Train/Test Split\n",
        "X_train, X_test, y_train, y_test = train_test_split(\n",
        "    X_selected, y, test_size=0.2, random_state=42, stratify=y\n",
        ")\n",
        "\n",
        "# Step 5: Train Logistic Regression Model\n",
        "log_reg.fit(X_train, y_train)\n",
        "y_pred = log_reg.predict(X_test)\n",
        "\n",
        "# Step 6: Evaluation\n",
        "print(\"\\n📊 Logistic Regression Performance Metrics:\")\n",
        "print(\"Accuracy:\", accuracy_score(y_test, y_pred))\n",
        "print(\"Precision:\", precision_score(y_test, y_pred, average=\"weighted\"))\n",
        "print(\"Recall:\", recall_score(y_test, y_pred, average=\"weighted\"))\n",
        "print(\"F1 Score:\", f1_score(y_test, y_pred, average=\"weighted\"))\n",
        "\n",
        "print(\"\\nClassification Report:\\n\", classification_report(y_test, y_pred, digits=4))\n"
      ]
    }
  ]
}