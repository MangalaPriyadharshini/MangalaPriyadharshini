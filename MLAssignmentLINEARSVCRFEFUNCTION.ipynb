{
  "nbformat": 4,
  "nbformat_minor": 0,
  "metadata": {
    "colab": {
      "provenance": [],
      "authorship_tag": "ABX9TyOXZCkPXnSTIRYoysvmF9+X",
      "include_colab_link": true
    },
    "kernelspec": {
      "name": "python3",
      "display_name": "Python 3"
    },
    "language_info": {
      "name": "python"
    }
  },
  "cells": [
    {
      "cell_type": "markdown",
      "metadata": {
        "id": "view-in-github",
        "colab_type": "text"
      },
      "source": [
        "<a href=\"https://colab.research.google.com/github/MangalaPriyadharshini/MangalaPriyadharshini/blob/main/MLAssignmentLINEARSVCRFEFUNCTION.ipynb\" target=\"_parent\"><img src=\"https://colab.research.google.com/assets/colab-badge.svg\" alt=\"Open In Colab\"/></a>"
      ]
    },
    {
      "cell_type": "code",
      "execution_count": 1,
      "metadata": {
        "colab": {
          "base_uri": "https://localhost:8080/"
        },
        "id": "i0KPOEdYDP3U",
        "outputId": "fe6654fa-6f04-470f-a4ae-60c001ca0008"
      },
      "outputs": [
        {
          "output_type": "stream",
          "name": "stdout",
          "text": [
            "\n",
            "✅ Selected Features by RFE: ['Pregnancies', 'Glucose', 'BloodPressure', 'BMI', 'DiabetesPedigreeFunction']\n",
            "\n",
            "📊 SVM Performance Metrics with RFE:\n",
            "Accuracy: 0.7532467532467533\n",
            "Precision: 0.7465213358070502\n",
            "Recall: 0.7532467532467533\n",
            "F1 Score: 0.7448082577799559\n",
            "\n",
            "Classification Report:\n",
            "               precision    recall  f1-score   support\n",
            "\n",
            "           0     0.7768    0.8700    0.8208       100\n",
            "           1     0.6905    0.5370    0.6042        54\n",
            "\n",
            "    accuracy                         0.7532       154\n",
            "   macro avg     0.7336    0.7035    0.7125       154\n",
            "weighted avg     0.7465    0.7532    0.7448       154\n",
            "\n"
          ]
        }
      ],
      "source": [
        "# ========================================\n",
        "# SVM + RFE (Diabetes Dataset)\n",
        "# ========================================\n",
        "\n",
        "import pandas as pd\n",
        "from sklearn.model_selection import train_test_split\n",
        "from sklearn.preprocessing import StandardScaler\n",
        "from sklearn.feature_selection import RFE\n",
        "from sklearn.svm import LinearSVC, SVC\n",
        "from sklearn.metrics import accuracy_score, precision_score, recall_score, f1_score, classification_report\n",
        "\n",
        "# Step 1: Load Dataset\n",
        "dataset = pd.read_csv(\"diabetes.csv\")\n",
        "X = dataset.drop(columns=[\"Outcome\"])\n",
        "y = dataset[\"Outcome\"]\n",
        "\n",
        "# Step 2: Feature Scaling\n",
        "scaler = StandardScaler()\n",
        "X_scaled = scaler.fit_transform(X)\n",
        "\n",
        "# Step 3: Apply RFE with Linear SVM\n",
        "rfe_model = LinearSVC(max_iter=5000, random_state=42)\n",
        "rfe = RFE(rfe_model, n_features_to_select=5)   # Select top 5 features\n",
        "rfe.fit(X_scaled, y)\n",
        "\n",
        "selected_features = X.columns[rfe.support_]\n",
        "print(\"\\n✅ Selected Features by RFE:\", list(selected_features))\n",
        "\n",
        "# Keep only selected features\n",
        "X_selected = X_scaled[:, rfe.support_]\n",
        "\n",
        "# Step 4: Train/Test Split\n",
        "X_train, X_test, y_train, y_test = train_test_split(\n",
        "    X_selected, y, test_size=0.2, random_state=42, stratify=y\n",
        ")\n",
        "\n",
        "# Step 5: Train Final SVM Model (can use RBF kernel here if you want)\n",
        "svm = SVC(kernel=\"rbf\", probability=True, random_state=42)\n",
        "svm.fit(X_train, y_train)\n",
        "\n",
        "# Step 6: Predictions\n",
        "y_pred = svm.predict(X_test)\n",
        "\n",
        "# Step 7: Evaluation\n",
        "print(\"\\n📊 SVM Performance Metrics with RFE:\")\n",
        "print(\"Accuracy:\", accuracy_score(y_test, y_pred))\n",
        "print(\"Precision:\", precision_score(y_test, y_pred, average=\"weighted\"))\n",
        "print(\"Recall:\", recall_score(y_test, y_pred, average=\"weighted\"))\n",
        "print(\"F1 Score:\", f1_score(y_test, y_pred, average=\"weighted\"))\n",
        "\n",
        "print(\"\\nClassification Report:\\n\", classification_report(y_test, y_pred, digits=4))\n",
        "\n"
      ]
    },
    {
      "cell_type": "code",
      "source": [
        "import pickle\n",
        "filename = \"Linear_svc.sav\"\n",
        "pickle.dump(svm,open(filename,\"wb\"))\n",
        "load_model=pickle.load(open(filename,\"rb\"))"
      ],
      "metadata": {
        "id": "Xf7zURfXDrlc"
      },
      "execution_count": 5,
      "outputs": []
    },
    {
      "cell_type": "code",
      "source": [
        "result=load_model.predict([[3,4.5,27,4.9,33\t]])"
      ],
      "metadata": {
        "id": "i9rtDWY_Dw6K"
      },
      "execution_count": 6,
      "outputs": []
    },
    {
      "cell_type": "code",
      "source": [
        "result"
      ],
      "metadata": {
        "colab": {
          "base_uri": "https://localhost:8080/"
        },
        "id": "VbFA8GSmDyse",
        "outputId": "49fd5e57-a85d-470a-e20f-a6eab6f92022"
      },
      "execution_count": 8,
      "outputs": [
        {
          "output_type": "execute_result",
          "data": {
            "text/plain": [
              "array([0])"
            ]
          },
          "metadata": {},
          "execution_count": 8
        }
      ]
    }
  ]
}