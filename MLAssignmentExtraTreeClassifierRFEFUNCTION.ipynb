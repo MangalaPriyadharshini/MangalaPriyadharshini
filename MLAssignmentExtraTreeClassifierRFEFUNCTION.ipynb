{
  "nbformat": 4,
  "nbformat_minor": 0,
  "metadata": {
    "colab": {
      "provenance": [],
      "authorship_tag": "ABX9TyMCxdOxI5iif/GMIAvmdKC6",
      "include_colab_link": true
    },
    "kernelspec": {
      "name": "python3",
      "display_name": "Python 3"
    },
    "language_info": {
      "name": "python"
    }
  },
  "cells": [
    {
      "cell_type": "markdown",
      "metadata": {
        "id": "view-in-github",
        "colab_type": "text"
      },
      "source": [
        "<a href=\"https://colab.research.google.com/github/MangalaPriyadharshini/MangalaPriyadharshini/blob/main/MLAssignmentExtraTreeClassifierRFEFUNCTION.ipynb\" target=\"_parent\"><img src=\"https://colab.research.google.com/assets/colab-badge.svg\" alt=\"Open In Colab\"/></a>"
      ]
    },
    {
      "cell_type": "code",
      "execution_count": 16,
      "metadata": {
        "colab": {
          "base_uri": "https://localhost:8080/"
        },
        "id": "LETymyi9LcAm",
        "outputId": "5bd40c5f-0ae9-44c4-bb67-cbd6560edefd"
      },
      "outputs": [
        {
          "output_type": "stream",
          "name": "stdout",
          "text": [
            "\n",
            "✅ Selected Features using RFE: ['Pregnancies', 'Glucose', 'BMI', 'DiabetesPedigreeFunction', 'Age']\n",
            "\n",
            "📊 Extra Trees Classifier Performance Metrics:\n",
            "Accuracy: 0.7207792207792207\n",
            "Precision: 0.7156109196925524\n",
            "Recall: 0.7207792207792207\n",
            "F1 Score: 0.7174071488539876\n",
            "\n",
            "Classification Report:\n",
            "               precision    recall  f1-score   support\n",
            "\n",
            "           0     0.7714    0.8100    0.7902       100\n",
            "           1     0.6122    0.5556    0.5825        54\n",
            "\n",
            "    accuracy                         0.7208       154\n",
            "   macro avg     0.6918    0.6828    0.6864       154\n",
            "weighted avg     0.7156    0.7208    0.7174       154\n",
            "\n"
          ]
        }
      ],
      "source": [
        "# ========================================\n",
        "# Extra Trees Classifier + RFE (Diabetes Dataset)\n",
        "# ========================================\n",
        "\n",
        "import pandas as pd\n",
        "from sklearn.model_selection import train_test_split\n",
        "from sklearn.preprocessing import StandardScaler\n",
        "from sklearn.ensemble import ExtraTreesClassifier\n",
        "from sklearn.feature_selection import RFE\n",
        "from sklearn.metrics import accuracy_score, precision_score, recall_score, f1_score, classification_report\n",
        "import pickle\n",
        "\n",
        "# Step 1: Load Dataset\n",
        "dataset = pd.read_csv(\"diabetes.csv\")\n",
        "X = dataset.drop(columns=[\"Outcome\"])\n",
        "y = dataset[\"Outcome\"]\n",
        "\n",
        "# Step 2: Feature Scaling\n",
        "scaler = StandardScaler()\n",
        "X_scaled = scaler.fit_transform(X)\n",
        "\n",
        "# Step 3: Feature Selection using RFE with Extra Trees\n",
        "et_model = ExtraTreesClassifier(random_state=42)\n",
        "rfe = RFE(estimator=et_model, n_features_to_select=5)\n",
        "X_selected = rfe.fit_transform(X_scaled, y)\n",
        "\n",
        "selected_features = X.columns[rfe.get_support()]\n",
        "print(\"\\n✅ Selected Features using RFE:\", list(selected_features))\n",
        "\n",
        "# Step 4: Train/Test Split\n",
        "X_train, X_test, y_train, y_test = train_test_split(\n",
        "    X_selected, y, test_size=0.2, random_state=42, stratify=y\n",
        ")\n",
        "\n",
        "# Step 5: Train Extra Trees Classifier\n",
        "et_model.fit(X_train, y_train)\n",
        "\n",
        "# Step 6: Predictions\n",
        "y_pred = et_model.predict(X_test)\n",
        "\n",
        "# Step 7: Evaluation\n",
        "print(\"\\n📊 Extra Trees Classifier Performance Metrics:\")\n",
        "print(\"Accuracy:\", accuracy_score(y_test, y_pred))\n",
        "print(\"Precision:\", precision_score(y_test, y_pred, average=\"weighted\"))\n",
        "print(\"Recall:\", recall_score(y_test, y_pred, average=\"weighted\"))\n",
        "print(\"F1 Score:\", f1_score(y_test, y_pred, average=\"weighted\"))\n",
        "\n",
        "print(\"\\nClassification Report:\\n\", classification_report(y_test, y_pred, digits=4))"
      ]
    },
    {
      "cell_type": "code",
      "source": [
        "import pickle\n",
        "\n",
        "filename = \"ExtraTreesClassifier.sav\"\n",
        "\n",
        "\n",
        "pickle.dump(et_model, open(filename, \"wb\"))\n",
        "\n",
        "\n",
        "loaded_model = pickle.load(open(filename, \"rb\"))\n",
        "\n"
      ],
      "metadata": {
        "id": "E4VVaNHyLdqy"
      },
      "execution_count": 17,
      "outputs": []
    },
    {
      "cell_type": "code",
      "source": [
        "result=loaded_model.predict([[3,4.5,27,4.9,33\t]])"
      ],
      "metadata": {
        "id": "OzZfa4cmLd2M"
      },
      "execution_count": 18,
      "outputs": []
    },
    {
      "cell_type": "code",
      "source": [
        "result\n",
        ""
      ],
      "metadata": {
        "colab": {
          "base_uri": "https://localhost:8080/"
        },
        "id": "siUfRjv5Ld-t",
        "outputId": "fb2522b6-db24-40b4-d2cc-ece07b7b5d0c"
      },
      "execution_count": 19,
      "outputs": [
        {
          "output_type": "execute_result",
          "data": {
            "text/plain": [
              "array([1])"
            ]
          },
          "metadata": {},
          "execution_count": 19
        }
      ]
    }
  ]
}