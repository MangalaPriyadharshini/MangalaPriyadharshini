{
  "nbformat": 4,
  "nbformat_minor": 0,
  "metadata": {
    "colab": {
      "provenance": [],
      "authorship_tag": "ABX9TyNSrOOZSP6nesrw3PgK3x0t",
      "include_colab_link": true
    },
    "kernelspec": {
      "name": "python3",
      "display_name": "Python 3"
    },
    "language_info": {
      "name": "python"
    }
  },
  "cells": [
    {
      "cell_type": "markdown",
      "metadata": {
        "id": "view-in-github",
        "colab_type": "text"
      },
      "source": [
        "<a href=\"https://colab.research.google.com/github/MangalaPriyadharshini/MangalaPriyadharshini/blob/main/MLAssignmentGradientBoostingRFEFUNCTION.ipynb\" target=\"_parent\"><img src=\"https://colab.research.google.com/assets/colab-badge.svg\" alt=\"Open In Colab\"/></a>"
      ]
    },
    {
      "cell_type": "code",
      "execution_count": 12,
      "metadata": {
        "colab": {
          "base_uri": "https://localhost:8080/"
        },
        "id": "dWGsLS5kJt_z",
        "outputId": "bfaa00da-3005-4bdf-8623-da785e53afee"
      },
      "outputs": [
        {
          "output_type": "stream",
          "name": "stdout",
          "text": [
            "\n",
            "✅ Selected Features by RFE: ['Glucose', 'Insulin', 'BMI', 'DiabetesPedigreeFunction', 'Age']\n",
            "\n",
            "📊 Gradient Boosting Performance Metrics:\n",
            "Accuracy: 0.7467532467532467\n",
            "Precision: 0.7410499621674805\n",
            "Recall: 0.7467532467532467\n",
            "F1 Score: 0.7422593190996118\n",
            "\n",
            "Classification Report:\n",
            "               precision    recall  f1-score   support\n",
            "\n",
            "           0     0.7850    0.8400    0.8116       100\n",
            "           1     0.6596    0.5741    0.6139        54\n",
            "\n",
            "    accuracy                         0.7468       154\n",
            "   macro avg     0.7223    0.7070    0.7127       154\n",
            "weighted avg     0.7410    0.7468    0.7423       154\n",
            "\n"
          ]
        }
      ],
      "source": [
        "# ========================================\n",
        "# Gradient Boosting + RFE (Diabetes Dataset)\n",
        "# ========================================\n",
        "\n",
        "import pandas as pd\n",
        "from sklearn.model_selection import train_test_split\n",
        "from sklearn.preprocessing import StandardScaler\n",
        "from sklearn.feature_selection import RFE\n",
        "from sklearn.ensemble import GradientBoostingClassifier\n",
        "from sklearn.metrics import accuracy_score, precision_score, recall_score, f1_score, classification_report\n",
        "\n",
        "# Step 1: Load Dataset\n",
        "dataset = pd.read_csv(\"diabetes.csv\")\n",
        "X = dataset.drop(columns=[\"Outcome\"])\n",
        "y = dataset[\"Outcome\"]\n",
        "\n",
        "# Step 2: Feature Scaling (GBM doesn’t require scaling, but keep for consistency)\n",
        "scaler = StandardScaler()\n",
        "X_scaled = scaler.fit_transform(X)\n",
        "\n",
        "# Step 3: Apply RFE with Gradient Boosting\n",
        "gb_clf = GradientBoostingClassifier(random_state=42)\n",
        "rfe = RFE(gb_clf, n_features_to_select=5)\n",
        "rfe.fit(X_scaled, y)\n",
        "\n",
        "# Get selected features\n",
        "selected_features = X.columns[rfe.support_]\n",
        "print(\"\\n✅ Selected Features by RFE:\", list(selected_features))\n",
        "\n",
        "# Use only selected features\n",
        "X_selected = X_scaled[:, rfe.support_]\n",
        "\n",
        "# Step 4: Train/Test Split\n",
        "X_train, X_test, y_train, y_test = train_test_split(\n",
        "    X_selected, y, test_size=0.2, random_state=42, stratify=y\n",
        ")\n",
        "\n",
        "# Step 5: Train Gradient Boosting Model\n",
        "gb_clf.fit(X_train, y_train)\n",
        "y_pred = gb_clf.predict(X_test)\n",
        "\n",
        "# Step 6: Evaluation\n",
        "print(\"\\n📊 Gradient Boosting Performance Metrics:\")\n",
        "print(\"Accuracy:\", accuracy_score(y_test, y_pred))\n",
        "print(\"Precision:\", precision_score(y_test, y_pred, average=\"weighted\"))\n",
        "print(\"Recall:\", recall_score(y_test, y_pred, average=\"weighted\"))\n",
        "print(\"F1 Score:\", f1_score(y_test, y_pred, average=\"weighted\"))\n",
        "\n",
        "print(\"\\nClassification Report:\\n\", classification_report(y_test, y_pred, digits=4))\n"
      ]
    },
    {
      "cell_type": "code",
      "source": [
        "import pickle\n",
        "filename = \"GradientBoostingClassifier.sav\"\n",
        "pickle.dump(gb_clf,open(filename,\"wb\"))\n",
        "load_model=pickle.load(open(filename,\"rb\"))"
      ],
      "metadata": {
        "id": "SAlsIGjBJ6e9"
      },
      "execution_count": 8,
      "outputs": []
    },
    {
      "cell_type": "code",
      "source": [
        "result=load_model.predict([[3,4.5,27,4.9,33\t]])"
      ],
      "metadata": {
        "id": "BDEAQNlKKRue"
      },
      "execution_count": 9,
      "outputs": []
    },
    {
      "cell_type": "code",
      "source": [
        "result"
      ],
      "metadata": {
        "colab": {
          "base_uri": "https://localhost:8080/"
        },
        "id": "p_Lgi5B5KSjw",
        "outputId": "c43b45fd-c2e9-46d4-d405-8806d724c56f"
      },
      "execution_count": 10,
      "outputs": [
        {
          "output_type": "execute_result",
          "data": {
            "text/plain": [
              "array([0])"
            ]
          },
          "metadata": {},
          "execution_count": 10
        }
      ]
    }
  ]
}